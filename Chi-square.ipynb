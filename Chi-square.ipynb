{
 "cells": [
  {
   "cell_type": "code",
   "execution_count": 1,
   "id": "06e45e17-b08f-4096-b0fc-455ed69adc57",
   "metadata": {},
   "outputs": [],
   "source": [
    "import pandas as pd\n",
    "import numpy as np\n",
    "import scipy.stats"
   ]
  },
  {
   "cell_type": "code",
   "execution_count": 109,
   "id": "34fab96d-ac84-4854-b776-0fe45713704f",
   "metadata": {},
   "outputs": [
    {
     "data": {
      "text/plain": [
       "(76.0, 84.0, 160.0, 118.99999999999999)"
      ]
     },
     "execution_count": 109,
     "metadata": {},
     "output_type": "execute_result"
    }
   ],
   "source": [
    "0.4*190,0.42*200,0.32*500,0.35*340"
   ]
  },
  {
   "cell_type": "code",
   "execution_count": 111,
   "id": "d43fcdf0-ee20-4b9e-8e1d-b335826a69e1",
   "metadata": {},
   "outputs": [],
   "source": [
    "###### List of tuples: (yes_count, total_count)\n",
    "samples = [(76, 190), (84, 200),(160,500),(119,340)]  # Add as many as needed"
   ]
  },
  {
   "cell_type": "code",
   "execution_count": 113,
   "id": "9db4e7bb-ef18-412e-8df0-544e475cac0f",
   "metadata": {},
   "outputs": [],
   "source": [
    "def chi_square_test(samples, alpha=0.95, correction=False):\n",
    "    \"\"\"\n",
    "    Performs a Chi-square test for independence on 2 or more groups.\n",
    "\n",
    "    Parameters:\n",
    "    - samples: List of tuples [(yes_count, total_count), ...]\n",
    "    - alpha: Confidence level (default = 0.95)\n",
    "    - correction: Whether to apply Yates' correction (default = False)\n",
    "\n",
    "    Returns:\n",
    "    - p-value and significance level\n",
    "    \"\"\"\n",
    "\n",
    "    significance = 1 - alpha\n",
    "    yes_counts, no_counts, group_labels = [], [], []\n",
    "\n",
    "    # Extract \"Yes\" and \"No\" counts\n",
    "    for idx, (yes, total) in enumerate(samples, 1):\n",
    "        no = total - yes\n",
    "        yes_counts.append(yes)\n",
    "        no_counts.append(no)\n",
    "        group_labels.append(f'Group {idx}')\n",
    "\n",
    "    # Create contingency table (rows: Yes/No, columns: Groups)\n",
    "    contingency_table = pd.DataFrame(\n",
    "        {'Yes': yes_counts, 'No': no_counts},\n",
    "        index=group_labels\n",
    "    ).T\n",
    "    # Perform Chi-square test\n",
    "    chi2, p_value, dof, expected = scipy.stats.chi2_contingency(contingency_table, correction=correction)\n",
    "\n",
    "    # Print results\n",
    "    print(f\"\\nChi-square statistic: {chi2:.4f}\")\n",
    "    \n",
    "    # Hypothesis test decision\n",
    "    if p_value < significance:\n",
    "        print(\"\\n🔴 Reject the Null Hypothesis: At least one group behaves differently.\")\n",
    "    else:\n",
    "        print(\"\\n🟢 Fail to Reject the Null Hypothesis: No significant difference detected.\")\n",
    "\n",
    "    return round(p_value, 5), round(significance, 2)"
   ]
  },
  {
   "cell_type": "code",
   "execution_count": 115,
   "id": "92e271c3-ecdd-4949-953d-0f9a2f7ccf58",
   "metadata": {},
   "outputs": [
    {
     "name": "stdout",
     "output_type": "stream",
     "text": [
      "\n",
      "Chi-square statistic: 8.0438\n",
      "\n",
      "🔴 Reject the Null Hypothesis: At least one group behaves differently.\n"
     ]
    },
    {
     "data": {
      "text/plain": [
       "(0.04511, 0.05)"
      ]
     },
     "execution_count": 115,
     "metadata": {},
     "output_type": "execute_result"
    }
   ],
   "source": [
    "chi_square_test(samples)"
   ]
  },
  {
   "cell_type": "code",
   "execution_count": null,
   "id": "e6d7382b-d5dc-406a-9c9a-ed9c73f35b87",
   "metadata": {},
   "outputs": [],
   "source": []
  }
 ],
 "metadata": {
  "kernelspec": {
   "display_name": "Python [conda env:base] *",
   "language": "python",
   "name": "conda-base-py"
  },
  "language_info": {
   "codemirror_mode": {
    "name": "ipython",
    "version": 3
   },
   "file_extension": ".py",
   "mimetype": "text/x-python",
   "name": "python",
   "nbconvert_exporter": "python",
   "pygments_lexer": "ipython3",
   "version": "3.12.4"
  }
 },
 "nbformat": 4,
 "nbformat_minor": 5
}
