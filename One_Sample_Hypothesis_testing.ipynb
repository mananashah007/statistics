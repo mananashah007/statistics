{
 "cells": [
  {
   "cell_type": "code",
   "execution_count": 43,
   "id": "2960b27b-6d57-4283-aee7-c4a290392d77",
   "metadata": {},
   "outputs": [],
   "source": [
    "import pandas as pd\n",
    "import numpy as np\n",
    "import math\n",
    "from scipy.stats import t\n",
    "import scipy.stats"
   ]
  },
  {
   "cell_type": "code",
   "execution_count": 115,
   "id": "56c11098-1799-4cdb-9dce-c768a3262bdd",
   "metadata": {},
   "outputs": [],
   "source": [
    "#Define the variables for population\n",
    "#specify 0 in pop_std_deviation if its not given\n",
    "pop_mean, pop_std_deviation, n = 42,13,56"
   ]
  },
  {
   "cell_type": "code",
   "execution_count": 117,
   "id": "1e105629-31dc-4ec7-aa26-2ed7d857d3c5",
   "metadata": {},
   "outputs": [],
   "source": [
    "#Define the variables for sample\n",
    "sample_mean, sample_std_dev = 46,11"
   ]
  },
  {
   "cell_type": "code",
   "execution_count": 119,
   "id": "d710838d-c524-4ccc-8f05-9f93a7a26687",
   "metadata": {},
   "outputs": [],
   "source": [
    "#specify the signficane_level\n",
    "alpha = 0.99"
   ]
  },
  {
   "cell_type": "code",
   "execution_count": 121,
   "id": "f1180a5f-9a63-47f0-b25f-4d9a413da8c6",
   "metadata": {},
   "outputs": [],
   "source": [
    "#create a list of the variables given\n",
    "population  = [pop_mean,pop_std_deviation,n]\n",
    "sample = [sample_mean, sample_std_dev]"
   ]
  },
  {
   "cell_type": "code",
   "execution_count": 123,
   "id": "f7c2e71f-f2da-4851-b497-78a31b2cea61",
   "metadata": {},
   "outputs": [],
   "source": [
    "def hypothesis_testing(population, sample, alpha=0.95, tail='two', test_type='mean'):\n",
    "    \"\"\"\n",
    "    Perform hypothesis testing using z-test, t-test, or proportion test.\n",
    "\n",
    "    Parameters:\n",
    "    - population: tuple\n",
    "        If test_type='mean': (mean, std_dev, sample_size)\n",
    "        If test_type='proportion': (p0, sample_size)\n",
    "    - sample: tuple\n",
    "        If test_type='mean': (sample_mean, sample_std_dev)\n",
    "        If test_type='proportion': (p_hat,)\n",
    "    - alpha: float -> confidence level (default 0.95)\n",
    "    - tail: str -> 'two', 'left', or 'right' for test type\n",
    "    - test_type: str -> 'mean' or 'proportion'\n",
    "\n",
    "    Returns:\n",
    "    - p_value: rounded float\n",
    "    - significance level: rounded float (1 - alpha)\n",
    "    \"\"\"\n",
    "\n",
    "    significance = 1 - alpha\n",
    "\n",
    "    if test_type == 'mean':\n",
    "        pop_mean, pop_std, n = population\n",
    "        sample_mean, sample_std = sample\n",
    "\n",
    "        if pop_std == 0:\n",
    "            # T-test\n",
    "            t_score = (sample_mean - pop_mean) / (sample_std / math.sqrt(n))\n",
    "            df = n - 1\n",
    "\n",
    "            if tail == \"two\":\n",
    "                p_value = t.sf(abs(t_score), df) * 2\n",
    "            elif tail == \"left\":\n",
    "                p_value = t.cdf(t_score, df)\n",
    "            elif tail == \"right\":\n",
    "                p_value = t.sf(t_score, df)\n",
    "            else:\n",
    "                raise ValueError(\"Invalid tail argument. Use 'two', 'left', or 'right'.\")\n",
    "\n",
    "        else:\n",
    "            # Z-test\n",
    "            z_score = (sample_mean - pop_mean) / (pop_std / math.sqrt(n))\n",
    "\n",
    "            if tail == 'two':\n",
    "                p_value = scipy.stats.norm.sf(abs(z_score)) * 2\n",
    "            elif tail == 'left':\n",
    "                p_value = scipy.stats.norm.cdf(z_score)\n",
    "            elif tail == 'right':\n",
    "                p_value = scipy.stats.norm.sf(z_score)\n",
    "            else:\n",
    "                raise ValueError(\"Invalid tail argument. Use 'two', 'left', or 'right'.\")\n",
    "\n",
    "    elif test_type == 'proportion':\n",
    "        p0, n = population\n",
    "        p_hat = sample[0]\n",
    "\n",
    "        # Z-test for proportions\n",
    "        z_score = (p_hat - p0) / math.sqrt((p0 * (1 - p0)) / n)\n",
    "\n",
    "        if tail == 'two':\n",
    "            p_value = scipy.stats.norm.sf(abs(z_score)) * 2\n",
    "        elif tail == 'left':\n",
    "            p_value = scipy.stats.norm.cdf(z_score)\n",
    "        elif tail == 'right':\n",
    "            p_value = scipy.stats.norm.sf(z_score)\n",
    "        else:\n",
    "            raise ValueError(\"Invalid tail argument. Use 'two', 'left', or 'right'.\")\n",
    "\n",
    "    else:\n",
    "        raise ValueError(\"Invalid test_type. Use 'mean' or 'proportion'.\")\n",
    "\n",
    "    # Hypothesis decision\n",
    "    if p_value < significance:\n",
    "        print(\"Reject the Null Hypothesis\")\n",
    "    else:\n",
    "        print(\"Failed to reject the Null Hypothesis\")\n",
    "\n",
    "    return round(p_value, 5), round(significance, 2)"
   ]
  },
  {
   "cell_type": "code",
   "execution_count": 125,
   "id": "cb1bc62d-040c-442e-88c6-2a820eddb800",
   "metadata": {},
   "outputs": [
    {
     "name": "stdout",
     "output_type": "stream",
     "text": [
      "Failed to reject the Null Hypothesis\n"
     ]
    },
    {
     "data": {
      "text/plain": [
       "(0.01065, 0.01)"
      ]
     },
     "execution_count": 125,
     "metadata": {},
     "output_type": "execute_result"
    }
   ],
   "source": [
    "hypothesis_testing(population, sample, alpha,'right')"
   ]
  },
  {
   "cell_type": "code",
   "execution_count": null,
   "id": "62bf89af-bbc0-46de-9d92-9e5d3f3ce3b1",
   "metadata": {},
   "outputs": [],
   "source": []
  },
  {
   "cell_type": "code",
   "execution_count": null,
   "id": "2607b6f9-17c2-46bd-b876-1e86ded47801",
   "metadata": {},
   "outputs": [],
   "source": []
  }
 ],
 "metadata": {
  "kernelspec": {
   "display_name": "Python [conda env:base] *",
   "language": "python",
   "name": "conda-base-py"
  },
  "language_info": {
   "codemirror_mode": {
    "name": "ipython",
    "version": 3
   },
   "file_extension": ".py",
   "mimetype": "text/x-python",
   "name": "python",
   "nbconvert_exporter": "python",
   "pygments_lexer": "ipython3",
   "version": "3.12.4"
  }
 },
 "nbformat": 4,
 "nbformat_minor": 5
}
