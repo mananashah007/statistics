{
 "cells": [
  {
   "cell_type": "code",
   "execution_count": 4,
   "id": "164461c8-c363-422b-9194-92b2c98e8a54",
   "metadata": {},
   "outputs": [],
   "source": [
    "import pandas as pd\n",
    "import seaborn as sns\n",
    "import matplotlib.pyplot as plt\n",
    "import numpy as np\n",
    "# Uplift analysis and attribution estimation\n",
    "from statsmodels.stats.proportion import proportions_ztest\n",
    "from statsmodels.stats.proportion import proportion_confint\n",
    "\n",
    "import os\n",
    "import warnings \n",
    "warnings.filterwarnings('ignore')"
   ]
  },
  {
   "cell_type": "code",
   "execution_count": 6,
   "id": "cdb8bd8a-534b-4bd1-8adc-7754b9f11362",
   "metadata": {},
   "outputs": [
    {
     "data": {
      "text/html": [
       "<div>\n",
       "<style scoped>\n",
       "    .dataframe tbody tr th:only-of-type {\n",
       "        vertical-align: middle;\n",
       "    }\n",
       "\n",
       "    .dataframe tbody tr th {\n",
       "        vertical-align: top;\n",
       "    }\n",
       "\n",
       "    .dataframe thead th {\n",
       "        text-align: right;\n",
       "    }\n",
       "</style>\n",
       "<table border=\"1\" class=\"dataframe\">\n",
       "  <thead>\n",
       "    <tr style=\"text-align: right;\">\n",
       "      <th></th>\n",
       "      <th>Unnamed: 0</th>\n",
       "      <th>user id</th>\n",
       "      <th>test group</th>\n",
       "      <th>converted</th>\n",
       "      <th>total ads</th>\n",
       "      <th>most ads day</th>\n",
       "      <th>most ads hour</th>\n",
       "    </tr>\n",
       "  </thead>\n",
       "  <tbody>\n",
       "    <tr>\n",
       "      <th>0</th>\n",
       "      <td>0</td>\n",
       "      <td>1069124</td>\n",
       "      <td>ad</td>\n",
       "      <td>False</td>\n",
       "      <td>130</td>\n",
       "      <td>Monday</td>\n",
       "      <td>20</td>\n",
       "    </tr>\n",
       "    <tr>\n",
       "      <th>1</th>\n",
       "      <td>1</td>\n",
       "      <td>1119715</td>\n",
       "      <td>ad</td>\n",
       "      <td>False</td>\n",
       "      <td>93</td>\n",
       "      <td>Tuesday</td>\n",
       "      <td>22</td>\n",
       "    </tr>\n",
       "    <tr>\n",
       "      <th>2</th>\n",
       "      <td>2</td>\n",
       "      <td>1144181</td>\n",
       "      <td>ad</td>\n",
       "      <td>False</td>\n",
       "      <td>21</td>\n",
       "      <td>Tuesday</td>\n",
       "      <td>18</td>\n",
       "    </tr>\n",
       "    <tr>\n",
       "      <th>3</th>\n",
       "      <td>3</td>\n",
       "      <td>1435133</td>\n",
       "      <td>ad</td>\n",
       "      <td>False</td>\n",
       "      <td>355</td>\n",
       "      <td>Tuesday</td>\n",
       "      <td>10</td>\n",
       "    </tr>\n",
       "    <tr>\n",
       "      <th>4</th>\n",
       "      <td>4</td>\n",
       "      <td>1015700</td>\n",
       "      <td>ad</td>\n",
       "      <td>False</td>\n",
       "      <td>276</td>\n",
       "      <td>Friday</td>\n",
       "      <td>14</td>\n",
       "    </tr>\n",
       "  </tbody>\n",
       "</table>\n",
       "</div>"
      ],
      "text/plain": [
       "   Unnamed: 0  user id test group  converted  total ads most ads day  \\\n",
       "0           0  1069124         ad      False        130       Monday   \n",
       "1           1  1119715         ad      False         93      Tuesday   \n",
       "2           2  1144181         ad      False         21      Tuesday   \n",
       "3           3  1435133         ad      False        355      Tuesday   \n",
       "4           4  1015700         ad      False        276       Friday   \n",
       "\n",
       "   most ads hour  \n",
       "0             20  \n",
       "1             22  \n",
       "2             18  \n",
       "3             10  \n",
       "4             14  "
      ]
     },
     "execution_count": 6,
     "metadata": {},
     "output_type": "execute_result"
    }
   ],
   "source": [
    "data = pd.read_excel('marketing_AB.xlsx')\n",
    "data.head()"
   ]
  },
  {
   "cell_type": "code",
   "execution_count": 68,
   "id": "54b69335-dfef-40c6-8ce2-28d216d84284",
   "metadata": {},
   "outputs": [],
   "source": [
    "def summarize_dataframe(df):\n",
    "    \"\"\"\n",
    "    Summarizes a pandas DataFrame with both general information and detailed column-level stats.\n",
    "\n",
    "    Parameters:\n",
    "        df (pd.DataFrame): The DataFrame to summarize.\n",
    "\n",
    "    Returns:\n",
    "        pd.DataFrame: A summary table with per-column metadata including type, nulls, stats, and frequency.\n",
    "    \"\"\"\n",
    "\n",
    "    # 1. Print high-level structure of the DataFrame\n",
    "    print(\"BASIC DATAFRAME INFO\")\n",
    "    print(f\"- Number of rows: {df.shape[0]}\")\n",
    "    print(f\"- Number of columns: {df.shape[1]}\")\n",
    "    print(f\"- Column names: {list(df.columns)}\")\n",
    "    print(\"\\n- Column data types:\\n\", df.dtypes)\n",
    "    print(f\"\\n- Total missing values: {df.isnull().sum().sum()}\")\n",
    "    print(f\"- Duplicate rows: {df.duplicated().sum()}\")\n",
    "    print(\"-\" * 50)\n",
    "    \n",
    "    # 2. Initialize a list to store column-wise summaries\n",
    "    summary = []\n",
    "\n",
    "    # 3. Iterate over each column to collect type-specific stats\n",
    "    for col in df.columns:\n",
    "        col_data = df[col]  # current column data\n",
    "        col_type = col_data.dtype  # column dtype\n",
    "\n",
    "        # If numeric column\n",
    "        if pd.api.types.is_numeric_dtype(col_data):\n",
    "            summary.append({\n",
    "                'Column': col,\n",
    "                'Type': 'Numeric',\n",
    "                'Non-Null Count': col_data.notnull().sum(),\n",
    "                'Missing Values': col_data.isnull().sum(),\n",
    "                'Mean': col_data.mean(),\n",
    "                'Std Dev': col_data.std(),\n",
    "                'Min': col_data.min(),\n",
    "                'Max': col_data.max(),\n",
    "                'Unique Values': col_data.nunique()\n",
    "            })\n",
    "\n",
    "        # If categorical or string column\n",
    "        elif pd.api.types.is_categorical_dtype(col_data) or pd.api.types.is_object_dtype(col_data):\n",
    "            summary.append({\n",
    "                'Column': col,\n",
    "                'Type': 'Categorical',\n",
    "                'Non-Null Count': col_data.notnull().sum(),\n",
    "                'Missing Values': col_data.isnull().sum(),\n",
    "                'Most Frequent': col_data.mode().iloc[0] if not col_data.mode().empty else None,\n",
    "                'Frequency': col_data.value_counts().iloc[0] if not col_data.value_counts().empty else None,\n",
    "                'Unique Values': col_data.nunique()\n",
    "            })\n",
    "            print(f\"column : {col}\",df[col].unique(),\"\\n\")\n",
    "\n",
    "        # If datetime column\n",
    "        elif pd.api.types.is_datetime64_any_dtype(col_data):\n",
    "            summary.append({\n",
    "                'Column': col,\n",
    "                'Type': 'Datetime',\n",
    "                'Non-Null Count': col_data.notnull().sum(),\n",
    "                'Missing Values': col_data.isnull().sum(),\n",
    "                'Min': col_data.min(),\n",
    "                'Max': col_data.max(),\n",
    "                'Unique Values': col_data.nunique()\n",
    "            })\n",
    "\n",
    "        # Fallback for any other column type\n",
    "        else:\n",
    "            summary.append({\n",
    "                'Column': col,\n",
    "                'Type': 'Other',\n",
    "                'Non-Null Count': col_data.notnull().sum(),\n",
    "                'Missing Values': col_data.isnull().sum(),\n",
    "                'Unique Values': col_data.nunique()\n",
    "            })\n",
    "\n",
    "    # 4. Convert collected summaries into a new DataFrame\n",
    "    summary_df = pd.DataFrame(summary)\n",
    "\n",
    "    # 5. Return the summary table\n",
    "    print(\"COLUMN-WISE SUMMARY\")\n",
    "    return summary_df"
   ]
  },
  {
   "cell_type": "code",
   "execution_count": 70,
   "id": "b645286a-5340-4fae-a643-db56a056a3fe",
   "metadata": {},
   "outputs": [
    {
     "name": "stdout",
     "output_type": "stream",
     "text": [
      "BASIC DATAFRAME INFO\n",
      "- Number of rows: 588101\n",
      "- Number of columns: 5\n",
      "- Column names: ['test group', 'converted', 'total ads', 'most ads day', 'most ads hour']\n",
      "\n",
      "- Column data types:\n",
      " test group       object\n",
      "converted          bool\n",
      "total ads         int64\n",
      "most ads day     object\n",
      "most ads hour     int64\n",
      "dtype: object\n",
      "\n",
      "- Total missing values: 0\n",
      "- Duplicate rows: 543623\n",
      "--------------------------------------------------\n",
      "column : test group ['ad' 'psa'] \n",
      "\n",
      "column : most ads day ['Monday' 'Tuesday' 'Friday' 'Saturday' 'Wednesday' 'Sunday' 'Thursday'] \n",
      "\n",
      "COLUMN-WISE SUMMARY\n"
     ]
    },
    {
     "data": {
      "text/html": [
       "<div>\n",
       "<style scoped>\n",
       "    .dataframe tbody tr th:only-of-type {\n",
       "        vertical-align: middle;\n",
       "    }\n",
       "\n",
       "    .dataframe tbody tr th {\n",
       "        vertical-align: top;\n",
       "    }\n",
       "\n",
       "    .dataframe thead th {\n",
       "        text-align: right;\n",
       "    }\n",
       "</style>\n",
       "<table border=\"1\" class=\"dataframe\">\n",
       "  <thead>\n",
       "    <tr style=\"text-align: right;\">\n",
       "      <th></th>\n",
       "      <th>Column</th>\n",
       "      <th>Type</th>\n",
       "      <th>Non-Null Count</th>\n",
       "      <th>Missing Values</th>\n",
       "      <th>Most Frequent</th>\n",
       "      <th>Frequency</th>\n",
       "      <th>Unique Values</th>\n",
       "      <th>Mean</th>\n",
       "      <th>Std Dev</th>\n",
       "      <th>Min</th>\n",
       "      <th>Max</th>\n",
       "    </tr>\n",
       "  </thead>\n",
       "  <tbody>\n",
       "    <tr>\n",
       "      <th>0</th>\n",
       "      <td>test group</td>\n",
       "      <td>Categorical</td>\n",
       "      <td>588101</td>\n",
       "      <td>0</td>\n",
       "      <td>ad</td>\n",
       "      <td>564577.0</td>\n",
       "      <td>2</td>\n",
       "      <td>NaN</td>\n",
       "      <td>NaN</td>\n",
       "      <td>NaN</td>\n",
       "      <td>NaN</td>\n",
       "    </tr>\n",
       "    <tr>\n",
       "      <th>1</th>\n",
       "      <td>converted</td>\n",
       "      <td>Numeric</td>\n",
       "      <td>588101</td>\n",
       "      <td>0</td>\n",
       "      <td>NaN</td>\n",
       "      <td>NaN</td>\n",
       "      <td>2</td>\n",
       "      <td>0.025239</td>\n",
       "      <td>0.156850</td>\n",
       "      <td>False</td>\n",
       "      <td>True</td>\n",
       "    </tr>\n",
       "    <tr>\n",
       "      <th>2</th>\n",
       "      <td>total ads</td>\n",
       "      <td>Numeric</td>\n",
       "      <td>588101</td>\n",
       "      <td>0</td>\n",
       "      <td>NaN</td>\n",
       "      <td>NaN</td>\n",
       "      <td>807</td>\n",
       "      <td>24.820876</td>\n",
       "      <td>43.715181</td>\n",
       "      <td>1</td>\n",
       "      <td>2065</td>\n",
       "    </tr>\n",
       "    <tr>\n",
       "      <th>3</th>\n",
       "      <td>most ads day</td>\n",
       "      <td>Categorical</td>\n",
       "      <td>588101</td>\n",
       "      <td>0</td>\n",
       "      <td>Friday</td>\n",
       "      <td>92608.0</td>\n",
       "      <td>7</td>\n",
       "      <td>NaN</td>\n",
       "      <td>NaN</td>\n",
       "      <td>NaN</td>\n",
       "      <td>NaN</td>\n",
       "    </tr>\n",
       "    <tr>\n",
       "      <th>4</th>\n",
       "      <td>most ads hour</td>\n",
       "      <td>Numeric</td>\n",
       "      <td>588101</td>\n",
       "      <td>0</td>\n",
       "      <td>NaN</td>\n",
       "      <td>NaN</td>\n",
       "      <td>24</td>\n",
       "      <td>14.469061</td>\n",
       "      <td>4.834634</td>\n",
       "      <td>0</td>\n",
       "      <td>23</td>\n",
       "    </tr>\n",
       "  </tbody>\n",
       "</table>\n",
       "</div>"
      ],
      "text/plain": [
       "          Column         Type  Non-Null Count  Missing Values Most Frequent  \\\n",
       "0     test group  Categorical          588101               0            ad   \n",
       "1      converted      Numeric          588101               0           NaN   \n",
       "2      total ads      Numeric          588101               0           NaN   \n",
       "3   most ads day  Categorical          588101               0        Friday   \n",
       "4  most ads hour      Numeric          588101               0           NaN   \n",
       "\n",
       "   Frequency  Unique Values       Mean    Std Dev    Min   Max  \n",
       "0   564577.0              2        NaN        NaN    NaN   NaN  \n",
       "1        NaN              2   0.025239   0.156850  False  True  \n",
       "2        NaN            807  24.820876  43.715181      1  2065  \n",
       "3    92608.0              7        NaN        NaN    NaN   NaN  \n",
       "4        NaN             24  14.469061   4.834634      0    23  "
      ]
     },
     "execution_count": 70,
     "metadata": {},
     "output_type": "execute_result"
    }
   ],
   "source": [
    "summarize_dataframe(data)"
   ]
  },
  {
   "cell_type": "code",
   "execution_count": 40,
   "id": "01b78d2d-de90-48ca-9aa3-9c342ba1a670",
   "metadata": {},
   "outputs": [
    {
     "data": {
      "text/html": [
       "<div>\n",
       "<style scoped>\n",
       "    .dataframe tbody tr th:only-of-type {\n",
       "        vertical-align: middle;\n",
       "    }\n",
       "\n",
       "    .dataframe tbody tr th {\n",
       "        vertical-align: top;\n",
       "    }\n",
       "\n",
       "    .dataframe thead th {\n",
       "        text-align: right;\n",
       "    }\n",
       "</style>\n",
       "<table border=\"1\" class=\"dataframe\">\n",
       "  <thead>\n",
       "    <tr style=\"text-align: right;\">\n",
       "      <th></th>\n",
       "      <th>test group</th>\n",
       "      <th>converted</th>\n",
       "      <th>total ads</th>\n",
       "      <th>most ads day</th>\n",
       "      <th>most ads hour</th>\n",
       "    </tr>\n",
       "  </thead>\n",
       "  <tbody>\n",
       "    <tr>\n",
       "      <th>0</th>\n",
       "      <td>ad</td>\n",
       "      <td>False</td>\n",
       "      <td>130</td>\n",
       "      <td>Monday</td>\n",
       "      <td>20</td>\n",
       "    </tr>\n",
       "    <tr>\n",
       "      <th>1</th>\n",
       "      <td>ad</td>\n",
       "      <td>False</td>\n",
       "      <td>93</td>\n",
       "      <td>Tuesday</td>\n",
       "      <td>22</td>\n",
       "    </tr>\n",
       "    <tr>\n",
       "      <th>2</th>\n",
       "      <td>ad</td>\n",
       "      <td>False</td>\n",
       "      <td>21</td>\n",
       "      <td>Tuesday</td>\n",
       "      <td>18</td>\n",
       "    </tr>\n",
       "    <tr>\n",
       "      <th>3</th>\n",
       "      <td>ad</td>\n",
       "      <td>False</td>\n",
       "      <td>355</td>\n",
       "      <td>Tuesday</td>\n",
       "      <td>10</td>\n",
       "    </tr>\n",
       "    <tr>\n",
       "      <th>4</th>\n",
       "      <td>ad</td>\n",
       "      <td>False</td>\n",
       "      <td>276</td>\n",
       "      <td>Friday</td>\n",
       "      <td>14</td>\n",
       "    </tr>\n",
       "  </tbody>\n",
       "</table>\n",
       "</div>"
      ],
      "text/plain": [
       "  test group  converted  total ads most ads day  most ads hour\n",
       "0         ad      False        130       Monday             20\n",
       "1         ad      False         93      Tuesday             22\n",
       "2         ad      False         21      Tuesday             18\n",
       "3         ad      False        355      Tuesday             10\n",
       "4         ad      False        276       Friday             14"
      ]
     },
     "execution_count": 40,
     "metadata": {},
     "output_type": "execute_result"
    }
   ],
   "source": [
    "#drop extra columns from the dataset\n",
    "data.drop(columns = ['Unnamed: 0','user id'],inplace = True)\n",
    "data.head()"
   ]
  },
  {
   "cell_type": "code",
   "execution_count": 48,
   "id": "58ea7f24-20c4-49e0-9533-fbc7fbf0dcba",
   "metadata": {},
   "outputs": [
    {
     "data": {
      "text/plain": [
       "converted\n",
       "False    0.974761\n",
       "True     0.025239\n",
       "Name: proportion, dtype: float64"
      ]
     },
     "execution_count": 48,
     "metadata": {},
     "output_type": "execute_result"
    }
   ],
   "source": [
    "data['converted'].value_counts(normalize = True)"
   ]
  },
  {
   "cell_type": "code",
   "execution_count": 52,
   "id": "7d39d44f-231a-485a-a95d-99342a8512e1",
   "metadata": {},
   "outputs": [
    {
     "data": {
      "text/plain": [
       "test group\n",
       "ad     0.96\n",
       "psa    0.04\n",
       "Name: proportion, dtype: float64"
      ]
     },
     "execution_count": 52,
     "metadata": {},
     "output_type": "execute_result"
    }
   ],
   "source": [
    "data['test group'].value_counts(normalize = True)"
   ]
  },
  {
   "cell_type": "code",
   "execution_count": 66,
   "id": "54edad7e-3c61-46cb-882a-ad3d3e38e083",
   "metadata": {},
   "outputs": [
    {
     "data": {
      "text/html": [
       "<div>\n",
       "<style scoped>\n",
       "    .dataframe tbody tr th:only-of-type {\n",
       "        vertical-align: middle;\n",
       "    }\n",
       "\n",
       "    .dataframe tbody tr th {\n",
       "        vertical-align: top;\n",
       "    }\n",
       "\n",
       "    .dataframe thead th {\n",
       "        text-align: right;\n",
       "    }\n",
       "</style>\n",
       "<table border=\"1\" class=\"dataframe\">\n",
       "  <thead>\n",
       "    <tr style=\"text-align: right;\">\n",
       "      <th>converted</th>\n",
       "      <th>False</th>\n",
       "      <th>True</th>\n",
       "    </tr>\n",
       "    <tr>\n",
       "      <th>test group</th>\n",
       "      <th></th>\n",
       "      <th></th>\n",
       "    </tr>\n",
       "  </thead>\n",
       "  <tbody>\n",
       "    <tr>\n",
       "      <th>ad</th>\n",
       "      <td>0.974453</td>\n",
       "      <td>0.025547</td>\n",
       "    </tr>\n",
       "    <tr>\n",
       "      <th>psa</th>\n",
       "      <td>0.982146</td>\n",
       "      <td>0.017854</td>\n",
       "    </tr>\n",
       "    <tr>\n",
       "      <th>All</th>\n",
       "      <td>0.974761</td>\n",
       "      <td>0.025239</td>\n",
       "    </tr>\n",
       "  </tbody>\n",
       "</table>\n",
       "</div>"
      ],
      "text/plain": [
       "converted      False      True\n",
       "test group                    \n",
       "ad          0.974453  0.025547\n",
       "psa         0.982146  0.017854\n",
       "All         0.974761  0.025239"
      ]
     },
     "execution_count": 66,
     "metadata": {},
     "output_type": "execute_result"
    }
   ],
   "source": [
    "table = pd.crosstab(data['test group'], data['converted'],margins=True, normalize='index')\n",
    "table"
   ]
  },
  {
   "cell_type": "code",
   "execution_count": 95,
   "id": "950b914c-1398-4e98-b3f5-1577a215bc29",
   "metadata": {},
   "outputs": [
    {
     "data": {
      "image/png": "[encoded data removed]",
      "text/plain": [
       "<Figure size 600x500 with 1 Axes>"
      ]
     },
     "metadata": {},
     "output_type": "display_data"
    },
    {
     "data": {
      "image/png": "[encoded data removed]",
      "text/plain": [
       "<Figure size 600x500 with 1 Axes>"
      ]
     },
     "metadata": {},
     "output_type": "display_data"
    }
   ],
   "source": [
    "ads_by_day = data.groupby('most ads day')['total ads'].sum().sort_values(ascending=False)\n",
    "\n",
    "# 📍 3️⃣ Plot: Ads Distribution by Day\n",
    "plt.figure(figsize=(6, 5))\n",
    "sns.barplot(x=ads_by_day.index, y=ads_by_day.values, palette='Blues_d')\n",
    "\n",
    "# 🔠 Add labels above bars\n",
    "for i, val in enumerate(ads_by_day.values):\n",
    "    plt.text(i, val + 5, f\"{val}\", ha='center', va='bottom', fontsize=10)\n",
    "\n",
    "# 🖼 Chart Labels\n",
    "plt.title('Total Ads Displayed by Day', fontsize=14)\n",
    "plt.xlabel('Day of Week', fontsize=12)\n",
    "plt.ylabel('Total Ads', fontsize=12)\n",
    "plt.xticks(rotation=45)\n",
    "plt.tight_layout()\n",
    "plt.show()\n",
    "\n",
    "# 📊 4️⃣ Group by Hour and Sum 'total ads'\n",
    "ads_by_hour = data.groupby('most ads hour')['total ads'].sum().sort_index()\n",
    "\n",
    "# 📍 5️⃣ Plot: Ads Distribution by Hour\n",
    "plt.figure(figsize=(6, 5))\n",
    "sns.barplot(x=ads_by_hour.index, y=ads_by_hour.values, palette='Greens_d')\n",
    "\n",
    "# 🖼 Chart Labels\n",
    "plt.title('Total Ads Displayed by Hour of Day', fontsize=14)\n",
    "plt.xlabel('Hour (0–23)', fontsize=12)\n",
    "plt.ylabel('Total Ads', fontsize=12)\n",
    "plt.xticks(rotation=0)\n",
    "plt.tight_layout()\n",
    "plt.show()"
   ]
  },
  {
   "cell_type": "code",
   "execution_count": 89,
   "id": "b6df6ae2-b454-44dc-8b7d-57dba8cfdb28",
   "metadata": {},
   "outputs": [
    {
     "data": {
      "image/png": "[encoded data removed]",
      "text/plain": [
       "<Figure size 640x480 with 1 Axes>"
      ]
     },
     "metadata": {},
     "output_type": "display_data"
    }
   ],
   "source": [
    "# Count of most ads day in descending order by total ads\n",
    "most_ads_day_order = data['most ads day'].value_counts().sort_values(ascending=False).index\n",
    "sns.countplot(data=data, x='most ads day', hue='test group', order=most_ads_day_order)\n",
    "plt.title(\"Most Ads Day by Group\")\n",
    "plt.xlabel(\"Day of the Week\")\n",
    "plt.ylabel(\"Number of Users\")\n",
    "plt.show()"
   ]
  },
  {
   "cell_type": "code",
   "execution_count": 91,
   "id": "2d64ab18-7dad-45f2-a66e-187dc19ffddf",
   "metadata": {},
   "outputs": [
    {
     "data": {
      "image/png": "[encoded data removed]",
      "text/plain": [
       "<Figure size 640x480 with 1 Axes>"
      ]
     },
     "metadata": {},
     "output_type": "display_data"
    }
   ],
   "source": [
    "# Count of most ads hour\n",
    "sns.countplot(data=data, x='most ads hour', hue='test group')\n",
    "plt.title(\"Most Ads Hour by Group\")\n",
    "plt.ylabel(\"Number of Ads seen\")\n",
    "plt.xlabel(\"Hours\")\n",
    "plt.show()"
   ]
  },
  {
   "cell_type": "code",
   "execution_count": 99,
   "id": "143f6612-6d6c-4f61-9704-59033c977683",
   "metadata": {},
   "outputs": [
    {
     "data": {
      "image/png": "[encoded data removed]",
      "text/plain": [
       "<Figure size 640x480 with 1 Axes>"
      ]
     },
     "metadata": {},
     "output_type": "display_data"
    }
   ],
   "source": [
    "# Filter to users who saw <= 200 ads\n",
    "filtered_df = data[data['total ads'] <= 200]\n",
    "\n",
    "# Plot filtered histogram by group\n",
    "sns.histplot(data=filtered_df, x='total ads', hue='test group', kde=True, bins=40)\n",
    "plt.title(\"Distribution of Ads Seen by Group (Capped at 200)\")\n",
    "plt.xlabel(\"Total Ads Seen\") \n",
    "plt.ylabel(\"Number of Users\")\n",
    "plt.show()"
   ]
  },
  {
   "cell_type": "code",
   "execution_count": 103,
   "id": "9e121d3f-5755-4bb3-8092-613b365a5471",
   "metadata": {},
   "outputs": [
    {
     "data": {
      "text/plain": [
       "((564577, 5), (23524, 5))"
      ]
     },
     "execution_count": 103,
     "metadata": {},
     "output_type": "execute_result"
    }
   ],
   "source": [
    "ads = data[data['test group']== 'ad']\n",
    "psa = data[data['test group']== 'psa']\n",
    "ads.shape,psa.shape"
   ]
  },
  {
   "cell_type": "code",
   "execution_count": 147,
   "id": "f083e28c-cfc6-4d6f-be50-e480128c6e0e",
   "metadata": {},
   "outputs": [
    {
     "data": {
      "text/plain": [
       "(1, 907)"
      ]
     },
     "execution_count": 147,
     "metadata": {},
     "output_type": "execute_result"
    }
   ],
   "source": [
    "psa['total ads'].min(),psa['total ads'].max()"
   ]
  },
  {
   "cell_type": "code",
   "execution_count": 161,
   "id": "748e4165-6815-4255-b9b2-84be6a11c87b",
   "metadata": {},
   "outputs": [],
   "source": [
    "def create_bins(df):\n",
    "    if df['total ads'].max()>1000:\n",
    "        bins = [0,10,20,50,100,200,1000,df['total ads'].max()]\n",
    "        labels = ['0-10','11-20','21-50','51-100','101-200','200-1000','>1000']\n",
    "    else:\n",
    "        bins = [0,10,20,50,100,200,df['total ads'].max()]\n",
    "        labels = ['0-10','11-20','21-50','51-100','101-200','200-1000']\n",
    "    df['ad_bins'] = pd.cut(df['total ads'],bins = bins, labels = labels, include_lowest = True)\n",
    "    return df"
   ]
  },
  {
   "cell_type": "code",
   "execution_count": 163,
   "id": "f85a598b-ab0a-48ae-b766-eda110ed5b3b",
   "metadata": {},
   "outputs": [
    {
     "data": {
      "text/html": [
       "<div>\n",
       "<style scoped>\n",
       "    .dataframe tbody tr th:only-of-type {\n",
       "        vertical-align: middle;\n",
       "    }\n",
       "\n",
       "    .dataframe tbody tr th {\n",
       "        vertical-align: top;\n",
       "    }\n",
       "\n",
       "    .dataframe thead th {\n",
       "        text-align: right;\n",
       "    }\n",
       "</style>\n",
       "<table border=\"1\" class=\"dataframe\">\n",
       "  <thead>\n",
       "    <tr style=\"text-align: right;\">\n",
       "      <th></th>\n",
       "      <th>test group</th>\n",
       "      <th>converted</th>\n",
       "      <th>total ads</th>\n",
       "      <th>most ads day</th>\n",
       "      <th>most ads hour</th>\n",
       "      <th>ad_bins</th>\n",
       "    </tr>\n",
       "  </thead>\n",
       "  <tbody>\n",
       "    <tr>\n",
       "      <th>0</th>\n",
       "      <td>ad</td>\n",
       "      <td>False</td>\n",
       "      <td>130</td>\n",
       "      <td>Monday</td>\n",
       "      <td>20</td>\n",
       "      <td>101-200</td>\n",
       "    </tr>\n",
       "    <tr>\n",
       "      <th>1</th>\n",
       "      <td>ad</td>\n",
       "      <td>False</td>\n",
       "      <td>93</td>\n",
       "      <td>Tuesday</td>\n",
       "      <td>22</td>\n",
       "      <td>51-100</td>\n",
       "    </tr>\n",
       "    <tr>\n",
       "      <th>2</th>\n",
       "      <td>ad</td>\n",
       "      <td>False</td>\n",
       "      <td>21</td>\n",
       "      <td>Tuesday</td>\n",
       "      <td>18</td>\n",
       "      <td>21-50</td>\n",
       "    </tr>\n",
       "    <tr>\n",
       "      <th>3</th>\n",
       "      <td>ad</td>\n",
       "      <td>False</td>\n",
       "      <td>355</td>\n",
       "      <td>Tuesday</td>\n",
       "      <td>10</td>\n",
       "      <td>200-1000</td>\n",
       "    </tr>\n",
       "    <tr>\n",
       "      <th>4</th>\n",
       "      <td>ad</td>\n",
       "      <td>False</td>\n",
       "      <td>276</td>\n",
       "      <td>Friday</td>\n",
       "      <td>14</td>\n",
       "      <td>200-1000</td>\n",
       "    </tr>\n",
       "    <tr>\n",
       "      <th>...</th>\n",
       "      <td>...</td>\n",
       "      <td>...</td>\n",
       "      <td>...</td>\n",
       "      <td>...</td>\n",
       "      <td>...</td>\n",
       "      <td>...</td>\n",
       "    </tr>\n",
       "    <tr>\n",
       "      <th>588096</th>\n",
       "      <td>ad</td>\n",
       "      <td>False</td>\n",
       "      <td>1</td>\n",
       "      <td>Tuesday</td>\n",
       "      <td>23</td>\n",
       "      <td>0-10</td>\n",
       "    </tr>\n",
       "    <tr>\n",
       "      <th>588097</th>\n",
       "      <td>ad</td>\n",
       "      <td>False</td>\n",
       "      <td>1</td>\n",
       "      <td>Tuesday</td>\n",
       "      <td>23</td>\n",
       "      <td>0-10</td>\n",
       "    </tr>\n",
       "    <tr>\n",
       "      <th>588098</th>\n",
       "      <td>ad</td>\n",
       "      <td>False</td>\n",
       "      <td>3</td>\n",
       "      <td>Tuesday</td>\n",
       "      <td>23</td>\n",
       "      <td>0-10</td>\n",
       "    </tr>\n",
       "    <tr>\n",
       "      <th>588099</th>\n",
       "      <td>ad</td>\n",
       "      <td>False</td>\n",
       "      <td>1</td>\n",
       "      <td>Tuesday</td>\n",
       "      <td>23</td>\n",
       "      <td>0-10</td>\n",
       "    </tr>\n",
       "    <tr>\n",
       "      <th>588100</th>\n",
       "      <td>ad</td>\n",
       "      <td>False</td>\n",
       "      <td>1</td>\n",
       "      <td>Tuesday</td>\n",
       "      <td>23</td>\n",
       "      <td>0-10</td>\n",
       "    </tr>\n",
       "  </tbody>\n",
       "</table>\n",
       "<p>564577 rows × 6 columns</p>\n",
       "</div>"
      ],
      "text/plain": [
       "       test group  converted  total ads most ads day  most ads hour   ad_bins\n",
       "0              ad      False        130       Monday             20   101-200\n",
       "1              ad      False         93      Tuesday             22    51-100\n",
       "2              ad      False         21      Tuesday             18     21-50\n",
       "3              ad      False        355      Tuesday             10  200-1000\n",
       "4              ad      False        276       Friday             14  200-1000\n",
       "...           ...        ...        ...          ...            ...       ...\n",
       "588096         ad      False          1      Tuesday             23      0-10\n",
       "588097         ad      False          1      Tuesday             23      0-10\n",
       "588098         ad      False          3      Tuesday             23      0-10\n",
       "588099         ad      False          1      Tuesday             23      0-10\n",
       "588100         ad      False          1      Tuesday             23      0-10\n",
       "\n",
       "[564577 rows x 6 columns]"
      ]
     },
     "execution_count": 163,
     "metadata": {},
     "output_type": "execute_result"
    }
   ],
   "source": [
    "create_bins(ads)"
   ]
  },
  {
   "cell_type": "code",
   "execution_count": 165,
   "id": "0e339eee-a886-4a52-9a84-68ef399c0cbf",
   "metadata": {},
   "outputs": [
    {
     "data": {
      "text/html": [
       "<div>\n",
       "<style scoped>\n",
       "    .dataframe tbody tr th:only-of-type {\n",
       "        vertical-align: middle;\n",
       "    }\n",
       "\n",
       "    .dataframe tbody tr th {\n",
       "        vertical-align: top;\n",
       "    }\n",
       "\n",
       "    .dataframe thead th {\n",
       "        text-align: right;\n",
       "    }\n",
       "</style>\n",
       "<table border=\"1\" class=\"dataframe\">\n",
       "  <thead>\n",
       "    <tr style=\"text-align: right;\">\n",
       "      <th></th>\n",
       "      <th>test group</th>\n",
       "      <th>converted</th>\n",
       "      <th>total ads</th>\n",
       "      <th>most ads day</th>\n",
       "      <th>most ads hour</th>\n",
       "      <th>ad_bins</th>\n",
       "    </tr>\n",
       "  </thead>\n",
       "  <tbody>\n",
       "    <tr>\n",
       "      <th>18</th>\n",
       "      <td>psa</td>\n",
       "      <td>False</td>\n",
       "      <td>248</td>\n",
       "      <td>Saturday</td>\n",
       "      <td>19</td>\n",
       "      <td>200-1000</td>\n",
       "    </tr>\n",
       "    <tr>\n",
       "      <th>38</th>\n",
       "      <td>psa</td>\n",
       "      <td>False</td>\n",
       "      <td>27</td>\n",
       "      <td>Thursday</td>\n",
       "      <td>8</td>\n",
       "      <td>21-50</td>\n",
       "    </tr>\n",
       "    <tr>\n",
       "      <th>68</th>\n",
       "      <td>psa</td>\n",
       "      <td>False</td>\n",
       "      <td>13</td>\n",
       "      <td>Tuesday</td>\n",
       "      <td>19</td>\n",
       "      <td>11-20</td>\n",
       "    </tr>\n",
       "    <tr>\n",
       "      <th>140</th>\n",
       "      <td>psa</td>\n",
       "      <td>False</td>\n",
       "      <td>32</td>\n",
       "      <td>Wednesday</td>\n",
       "      <td>19</td>\n",
       "      <td>21-50</td>\n",
       "    </tr>\n",
       "    <tr>\n",
       "      <th>157</th>\n",
       "      <td>psa</td>\n",
       "      <td>False</td>\n",
       "      <td>105</td>\n",
       "      <td>Tuesday</td>\n",
       "      <td>19</td>\n",
       "      <td>101-200</td>\n",
       "    </tr>\n",
       "    <tr>\n",
       "      <th>...</th>\n",
       "      <td>...</td>\n",
       "      <td>...</td>\n",
       "      <td>...</td>\n",
       "      <td>...</td>\n",
       "      <td>...</td>\n",
       "      <td>...</td>\n",
       "    </tr>\n",
       "    <tr>\n",
       "      <th>588052</th>\n",
       "      <td>psa</td>\n",
       "      <td>False</td>\n",
       "      <td>16</td>\n",
       "      <td>Tuesday</td>\n",
       "      <td>22</td>\n",
       "      <td>11-20</td>\n",
       "    </tr>\n",
       "    <tr>\n",
       "      <th>588063</th>\n",
       "      <td>psa</td>\n",
       "      <td>False</td>\n",
       "      <td>3</td>\n",
       "      <td>Tuesday</td>\n",
       "      <td>22</td>\n",
       "      <td>0-10</td>\n",
       "    </tr>\n",
       "    <tr>\n",
       "      <th>588066</th>\n",
       "      <td>psa</td>\n",
       "      <td>False</td>\n",
       "      <td>1</td>\n",
       "      <td>Tuesday</td>\n",
       "      <td>22</td>\n",
       "      <td>0-10</td>\n",
       "    </tr>\n",
       "    <tr>\n",
       "      <th>588069</th>\n",
       "      <td>psa</td>\n",
       "      <td>False</td>\n",
       "      <td>6</td>\n",
       "      <td>Tuesday</td>\n",
       "      <td>22</td>\n",
       "      <td>0-10</td>\n",
       "    </tr>\n",
       "    <tr>\n",
       "      <th>588081</th>\n",
       "      <td>psa</td>\n",
       "      <td>False</td>\n",
       "      <td>16</td>\n",
       "      <td>Tuesday</td>\n",
       "      <td>23</td>\n",
       "      <td>11-20</td>\n",
       "    </tr>\n",
       "  </tbody>\n",
       "</table>\n",
       "<p>23524 rows × 6 columns</p>\n",
       "</div>"
      ],
      "text/plain": [
       "       test group  converted  total ads most ads day  most ads hour   ad_bins\n",
       "18            psa      False        248     Saturday             19  200-1000\n",
       "38            psa      False         27     Thursday              8     21-50\n",
       "68            psa      False         13      Tuesday             19     11-20\n",
       "140           psa      False         32    Wednesday             19     21-50\n",
       "157           psa      False        105      Tuesday             19   101-200\n",
       "...           ...        ...        ...          ...            ...       ...\n",
       "588052        psa      False         16      Tuesday             22     11-20\n",
       "588063        psa      False          3      Tuesday             22      0-10\n",
       "588066        psa      False          1      Tuesday             22      0-10\n",
       "588069        psa      False          6      Tuesday             22      0-10\n",
       "588081        psa      False         16      Tuesday             23     11-20\n",
       "\n",
       "[23524 rows x 6 columns]"
      ]
     },
     "execution_count": 165,
     "metadata": {},
     "output_type": "execute_result"
    }
   ],
   "source": [
    "create_bins(psa)"
   ]
  },
  {
   "cell_type": "code",
   "execution_count": 167,
   "id": "e2659d72-1155-45fc-bf35-26cafeb5b1dc",
   "metadata": {},
   "outputs": [],
   "source": [
    "ads['converted'] = ads['converted'].astype(int)\n",
    "psa['converted'] = psa['converted'].astype(int)"
   ]
  },
  {
   "cell_type": "code",
   "execution_count": 196,
   "id": "e053febe-d560-49a3-a51c-850cbe6a7cc0",
   "metadata": {},
   "outputs": [],
   "source": [
    "def conversion_by_bins(df):\n",
    "    # Compute conversion rate per bin\n",
    "    conversion_by_ads_bin = df.groupby('ad_bins')['converted'].mean().reset_index()\n",
    "\n",
    "    # Bar plot of conversion rate by total ads seen bin\n",
    "    ax = sns.barplot(data=conversion_by_ads_bin, x='ad_bins', y='converted')\n",
    "    plt.title(f\"Conversion Rate by {df['test group'].unique()[0]}\")\n",
    "    plt.ylabel(\"Conversion Rate\")\n",
    "    plt.xlabel(\"Ads Seen Bin\")\n",
    "\n",
    "    # Add value labels to bars\n",
    "    for i, row in conversion_by_ads_bin.iterrows():\n",
    "        ax.text(i, row['converted'] + 0.0005, f\"{row['converted']:.1%}\", ha='center')\n",
    "\n",
    "    plt.show()\n",
    "\n",
    "    #Display conversion rates\n",
    "    print(conversion_by_ads_bin)"
   ]
  },
  {
   "cell_type": "code",
   "execution_count": 198,
   "id": "302a4511-69b0-447b-98bc-af13c592eb54",
   "metadata": {},
   "outputs": [
    {
     "data": {
      "image/png": "[encoded data removed]",
      "text/plain": [
       "<Figure size 640x480 with 1 Axes>"
      ]
     },
     "metadata": {},
     "output_type": "display_data"
    },
    {
     "name": "stdout",
     "output_type": "stream",
     "text": [
      "    ad_bins  converted\n",
      "0      0-10   0.003259\n",
      "1     11-20   0.008400\n",
      "2     21-50   0.029154\n",
      "3    51-100   0.116311\n",
      "4   101-200   0.176773\n",
      "5  200-1000   0.155355\n",
      "6     >1000   0.222222\n"
     ]
    }
   ],
   "source": [
    "conversion_by_bins(ads)"
   ]
  },
  {
   "cell_type": "code",
   "execution_count": 200,
   "id": "d3838956-48eb-4f8e-831f-1dc03533b064",
   "metadata": {},
   "outputs": [
    {
     "data": {
      "image/png": "[encoded data removed]",
      "text/plain": [
       "<Figure size 640x480 with 1 Axes>"
      ]
     },
     "metadata": {},
     "output_type": "display_data"
    },
    {
     "name": "stdout",
     "output_type": "stream",
     "text": [
      "    ad_bins  converted\n",
      "0      0-10   0.003991\n",
      "1     11-20   0.008193\n",
      "2     21-50   0.021777\n",
      "3    51-100   0.057744\n",
      "4   101-200   0.106383\n",
      "5  200-1000   0.155039\n"
     ]
    }
   ],
   "source": [
    "conversion_by_bins(psa)"
   ]
  },
  {
   "cell_type": "code",
   "execution_count": 202,
   "id": "c60e84fa-84bd-4252-8483-816276f59066",
   "metadata": {},
   "outputs": [
    {
     "data": {
      "text/html": [
       "<div>\n",
       "<style scoped>\n",
       "    .dataframe tbody tr th:only-of-type {\n",
       "        vertical-align: middle;\n",
       "    }\n",
       "\n",
       "    .dataframe tbody tr th {\n",
       "        vertical-align: top;\n",
       "    }\n",
       "\n",
       "    .dataframe thead th {\n",
       "        text-align: right;\n",
       "    }\n",
       "</style>\n",
       "<table border=\"1\" class=\"dataframe\">\n",
       "  <thead>\n",
       "    <tr style=\"text-align: right;\">\n",
       "      <th></th>\n",
       "      <th>test group</th>\n",
       "      <th>converted</th>\n",
       "      <th>total ads</th>\n",
       "      <th>most ads day</th>\n",
       "      <th>most ads hour</th>\n",
       "      <th>ad_bins</th>\n",
       "    </tr>\n",
       "  </thead>\n",
       "  <tbody>\n",
       "    <tr>\n",
       "      <th>0</th>\n",
       "      <td>ad</td>\n",
       "      <td>0</td>\n",
       "      <td>130</td>\n",
       "      <td>Monday</td>\n",
       "      <td>20</td>\n",
       "      <td>101-200</td>\n",
       "    </tr>\n",
       "    <tr>\n",
       "      <th>1</th>\n",
       "      <td>ad</td>\n",
       "      <td>0</td>\n",
       "      <td>93</td>\n",
       "      <td>Tuesday</td>\n",
       "      <td>22</td>\n",
       "      <td>51-100</td>\n",
       "    </tr>\n",
       "    <tr>\n",
       "      <th>2</th>\n",
       "      <td>ad</td>\n",
       "      <td>0</td>\n",
       "      <td>21</td>\n",
       "      <td>Tuesday</td>\n",
       "      <td>18</td>\n",
       "      <td>21-50</td>\n",
       "    </tr>\n",
       "    <tr>\n",
       "      <th>3</th>\n",
       "      <td>ad</td>\n",
       "      <td>0</td>\n",
       "      <td>355</td>\n",
       "      <td>Tuesday</td>\n",
       "      <td>10</td>\n",
       "      <td>200-1000</td>\n",
       "    </tr>\n",
       "    <tr>\n",
       "      <th>4</th>\n",
       "      <td>ad</td>\n",
       "      <td>0</td>\n",
       "      <td>276</td>\n",
       "      <td>Friday</td>\n",
       "      <td>14</td>\n",
       "      <td>200-1000</td>\n",
       "    </tr>\n",
       "  </tbody>\n",
       "</table>\n",
       "</div>"
      ],
      "text/plain": [
       "  test group  converted  total ads most ads day  most ads hour   ad_bins\n",
       "0         ad          0        130       Monday             20   101-200\n",
       "1         ad          0         93      Tuesday             22    51-100\n",
       "2         ad          0         21      Tuesday             18     21-50\n",
       "3         ad          0        355      Tuesday             10  200-1000\n",
       "4         ad          0        276       Friday             14  200-1000"
      ]
     },
     "execution_count": 202,
     "metadata": {},
     "output_type": "execute_result"
    }
   ],
   "source": [
    "ads.head()"
   ]
  },
  {
   "cell_type": "code",
   "execution_count": 208,
   "id": "ab22e146-d3c3-43ff-986f-5eaf39705e32",
   "metadata": {},
   "outputs": [
    {
     "name": "stdout",
     "output_type": "stream",
     "text": [
      "0.219 0.184\n"
     ]
    }
   ],
   "source": [
    "# Calculate correlations\n",
    "ad_corr = ads[['total ads', 'converted']].corr().loc['total ads', 'converted']\n",
    "psa_corr = psa[['total ads','converted']].corr().loc['total ads','converted']\n",
    "print(round(ad_corr,3),round(psa_corr,3))"
   ]
  },
  {
   "cell_type": "code",
   "execution_count": 210,
   "id": "cd533338-db42-4dc2-a04b-3604190b86e4",
   "metadata": {},
   "outputs": [
    {
     "data": {
      "text/html": [
       "<div>\n",
       "<style scoped>\n",
       "    .dataframe tbody tr th:only-of-type {\n",
       "        vertical-align: middle;\n",
       "    }\n",
       "\n",
       "    .dataframe tbody tr th {\n",
       "        vertical-align: top;\n",
       "    }\n",
       "\n",
       "    .dataframe thead th {\n",
       "        text-align: right;\n",
       "    }\n",
       "</style>\n",
       "<table border=\"1\" class=\"dataframe\">\n",
       "  <thead>\n",
       "    <tr style=\"text-align: right;\">\n",
       "      <th>converted</th>\n",
       "      <th>False</th>\n",
       "      <th>True</th>\n",
       "    </tr>\n",
       "    <tr>\n",
       "      <th>test group</th>\n",
       "      <th></th>\n",
       "      <th></th>\n",
       "    </tr>\n",
       "  </thead>\n",
       "  <tbody>\n",
       "    <tr>\n",
       "      <th>ad</th>\n",
       "      <td>0.974453</td>\n",
       "      <td>0.025547</td>\n",
       "    </tr>\n",
       "    <tr>\n",
       "      <th>psa</th>\n",
       "      <td>0.982146</td>\n",
       "      <td>0.017854</td>\n",
       "    </tr>\n",
       "    <tr>\n",
       "      <th>All</th>\n",
       "      <td>0.974761</td>\n",
       "      <td>0.025239</td>\n",
       "    </tr>\n",
       "  </tbody>\n",
       "</table>\n",
       "</div>"
      ],
      "text/plain": [
       "converted      False      True\n",
       "test group                    \n",
       "ad          0.974453  0.025547\n",
       "psa         0.982146  0.017854\n",
       "All         0.974761  0.025239"
      ]
     },
     "execution_count": 210,
     "metadata": {},
     "output_type": "execute_result"
    }
   ],
   "source": [
    "table"
   ]
  },
  {
   "cell_type": "code",
   "execution_count": 220,
   "id": "242d20cd-ee96-4568-afef-48ad92be272c",
   "metadata": {},
   "outputs": [
    {
     "name": "stdout",
     "output_type": "stream",
     "text": [
      "Ad - conversion%: 2.555\n",
      "PSA - conversion%: 1.785\n",
      "Uplift%: 0.769\n"
     ]
    }
   ],
   "source": [
    "# Grab value for 'ad' group under column True\n",
    "ad_true = table.loc['ad', True]\n",
    "\n",
    "# Grab value for 'psa' group under column True\n",
    "psa_true = table.loc['psa', True]\n",
    "\n",
    "uplift = ad_true - psa_true\n",
    "\n",
    "print(\"Ad - conversion%:\", round(100.0*ad_true,3))\n",
    "print(\"PSA - conversion%:\", round(100.0*psa_true,3))\n",
    "print(\"Uplift%:\", round(100.0*uplift,3))"
   ]
  },
  {
   "cell_type": "code",
   "execution_count": 222,
   "id": "ba43947b-4af7-4cb7-9eda-6f77a329ddeb",
   "metadata": {},
   "outputs": [],
   "source": [
    "# Count conversions and totals for both groups\n",
    "ad_converted = data[data['test group'] == 'ad']['converted'].sum()\n",
    "ad_total = data[data['test group'] == 'ad'].shape[0]\n",
    "\n",
    "psa_converted = data[data['test group'] == 'psa']['converted'].sum()\n",
    "psa_total = data[data['test group'] == 'psa'].shape[0]"
   ]
  },
  {
   "cell_type": "code",
   "execution_count": 228,
   "id": "0d4b6074-edca-4b91-9bca-e9da76628e0b",
   "metadata": {},
   "outputs": [
    {
     "name": "stdout",
     "output_type": "stream",
     "text": [
      "ads converted:[14423, 420]\n",
      "total ads:[564577, 23524]\n"
     ]
    }
   ],
   "source": [
    "# Z-test for proportions\n",
    "ad_count = [ad_converted, psa_converted]\n",
    "ad_nobs = [ad_total, psa_total]\n",
    "print(f'ads converted:{ad_count}')\n",
    "print(f'total ads:{ad_nobs}')"
   ]
  },
  {
   "cell_type": "code",
   "execution_count": 230,
   "id": "ceab73b9-1d75-4ab8-b13d-3ff76b301810",
   "metadata": {},
   "outputs": [
    {
     "name": "stdout",
     "output_type": "stream",
     "text": [
      "Z-statistic: 7.37008\n",
      "P-value: 0.00000\n"
     ]
    }
   ],
   "source": [
    "z_stat, p_value = proportions_ztest(ad_count, ad_nobs, alternative='larger')\n",
    "\n",
    "print(f\"Z-statistic: {z_stat:.5f}\")\n",
    "print(f\"P-value: {p_value:.5f}\")"
   ]
  },
  {
   "cell_type": "markdown",
   "id": "a15bbe7a-8637-438d-83f4-87ae11f08362",
   "metadata": {},
   "source": [
    "The p-value is far below 0.05, so we reject the null hypothesis. There is strong statistical evidence that the ad_group had a higher conversion rate than the PSA group. Therefore, the uplift is real and statistically significant."
   ]
  },
  {
   "cell_type": "code",
   "execution_count": 233,
   "id": "19cf8539-4c60-4bc7-8e55-84fee6eefe03",
   "metadata": {},
   "outputs": [
    {
     "name": "stdout",
     "output_type": "stream",
     "text": [
      "Estimated Incremental Conversions from Ads: 4342\n"
     ]
    }
   ],
   "source": [
    "# Attribution & Incremental Conversions\n",
    "# (0.77% * 564577)\n",
    "incremental_conversions = uplift * ad_total \n",
    "print(f\"Estimated Incremental Conversions from Ads: {int(incremental_conversions)}\")"
   ]
  },
  {
   "cell_type": "code",
   "execution_count": 241,
   "id": "6085dbe8-e078-4de1-8c3f-1e4a6a899b78",
   "metadata": {},
   "outputs": [
    {
     "name": "stdout",
     "output_type": "stream",
     "text": [
      "Estimated Incremental Revenue: $217,149.11\n"
     ]
    }
   ],
   "source": [
    "# Revenue per conversion (assume)\n",
    "avg_revenue_per_conversion = 50  # adjust as needed\n",
    "incremental_revenue = incremental_conversions * avg_revenue_per_conversion\n",
    "print(f\"Estimated Incremental Revenue: ${incremental_revenue:,.2f}\")"
   ]
  },
  {
   "cell_type": "code",
   "execution_count": 243,
   "id": "633f6164-4d7e-49c3-b772-b1365c9f71ca",
   "metadata": {},
   "outputs": [
    {
     "name": "stdout",
     "output_type": "stream",
     "text": [
      "\n",
      "--- Uplift Summary ---\n",
      "Ad Group Conversion Rate: 2.55%\n",
      "PSA Group Conversion Rate: 1.79%\n",
      "Absolute Uplift: 0.77%\n",
      "Z-Statistic: 7.37\n",
      "P-Value: 0.0000\n",
      "Statistically Significant: Yes\n",
      "Incremental Conversions: 4342\n",
      "Estimated Incremental Revenue (at $50 per conversion): $217,149.11\n"
     ]
    }
   ],
   "source": [
    "# Summary printout for uplift and statistical significance\n",
    "avg_revenue_per_conversion = 50\n",
    "print(\"\\n--- Uplift Summary ---\")\n",
    "print(f\"Ad Group Conversion Rate: {ad_true:.2%}\")\n",
    "print(f\"PSA Group Conversion Rate: {psa_true:.2%}\")\n",
    "print(f\"Absolute Uplift: {uplift:.2%}\")\n",
    "print(f\"Z-Statistic: {z_stat:.2f}\")\n",
    "print(f\"P-Value: {p_value:.4f}\")\n",
    "print(f\"Statistically Significant: {'Yes' if p_value < 0.05 else 'No'}\")\n",
    "print(f\"Incremental Conversions: {int(incremental_conversions)}\")\n",
    "print(f\"Estimated Incremental Revenue (at ${avg_revenue_per_conversion} per conversion): ${incremental_revenue:,.2f}\")"
   ]
  },
  {
   "cell_type": "code",
   "execution_count": null,
   "id": "d17d3863-2557-440f-8631-409812db3b34",
   "metadata": {},
   "outputs": [],
   "source": []
  }
 ],
 "metadata": {
  "kernelspec": {
   "display_name": "Python [conda env:base] *",
   "language": "python",
   "name": "conda-base-py"
  },
  "language_info": {
   "codemirror_mode": {
    "name": "ipython",
    "version": 3
   },
   "file_extension": ".py",
   "mimetype": "text/x-python",
   "name": "python",
   "nbconvert_exporter": "python",
   "pygments_lexer": "ipython3",
   "version": "3.12.4"
  }
 },
 "nbformat": 4,
 "nbformat_minor": 5
}
