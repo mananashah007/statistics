{
 "cells": [
  {
   "cell_type": "code",
   "execution_count": 402,
   "id": "6a727b30-e16c-4133-bfaf-dad1466f65c0",
   "metadata": {},
   "outputs": [],
   "source": [
    "#import the essential libraries\n",
    "import pandas as pd\n",
    "import numpy as np\n",
    "import math\n",
    "import scipy.stats"
   ]
  },
  {
   "cell_type": "code",
   "execution_count": 249,
   "id": "a0c295a0-8715-4d7a-a0af-6a7dcb4a497a",
   "metadata": {},
   "outputs": [],
   "source": [
    "#Sample 1 given data\n",
    "sm1 = 2\n",
    "n1 = 12\n",
    "sigma1 = 0\n",
    "s1 = 4.84"
   ]
  },
  {
   "cell_type": "code",
   "execution_count": 251,
   "id": "ec22cb42-1b6f-44ef-b420-6a85d783241c",
   "metadata": {},
   "outputs": [],
   "source": [
    "#Sample 2 given data\n",
    "sm2 = 74\n",
    "n2 = 9\n",
    "sigma2 = 0\n",
    "s2 = 9.81"
   ]
  },
  {
   "cell_type": "code",
   "execution_count": 253,
   "id": "54742970-7338-4c10-a3b4-45f391c04233",
   "metadata": {},
   "outputs": [],
   "source": [
    "sample_1,sample_2 = [sm1,n1,sigma1,s1],[sm2,n2,sigma2,s2]"
   ]
  },
  {
   "cell_type": "code",
   "execution_count": 386,
   "id": "9af9cd59-59d0-4768-961f-cf678275a770",
   "metadata": {},
   "outputs": [],
   "source": [
    "def two_sample_hypothesis_testing(\n",
    "    sample_1, sample_2, alpha=0.95,\n",
    "    independent=True, tail='two',\n",
    "    test_type='mean', equal_variances=False\n",
    "):\n",
    "    \"\"\"\n",
    "    Perform hypothesis testing for two samples (mean or standard deviation).\n",
    "\n",
    "    Parameters:\n",
    "        sample_1, sample_2: Tuples of (mean, sample_size, population_std, sample_std)\n",
    "        alpha: Confidence level (default 0.95)\n",
    "        independent: If True, samples are independent; otherwise, paired\n",
    "        tail: 'two', 'left', 'right' or 'two-tailed', 'left-tailed', 'right-tailed'\n",
    "        test_type: 'mean' or 'standard_deviation'\n",
    "        equal_variances: Use pooled variance if True\n",
    "\n",
    "    Returns:\n",
    "        p_value (rounded), significance_level\n",
    "    \"\"\"\n",
    "    significance = 1 - alpha\n",
    "    \n",
    "    # Unpack the sample tuples\n",
    "    sample_mean_1, sample_size_1, sigma_1, s1 = sample_1\n",
    "    sample_mean_2, sample_size_2, sigma_2, s2 = sample_2\n",
    "\n",
    "    # -----------------------------\n",
    "    # Case 1: Hypothesis Test for Means\n",
    "    # -----------------------------\n",
    "    if test_type == 'mean':\n",
    "        \n",
    "        # ---- Z-test for known population variances (independent samples)\n",
    "        if independent and sigma_1 != 0 and sigma_2 != 0:\n",
    "            z_score = (sample_mean_1 - sample_mean_2) / math.sqrt(\n",
    "                (sigma_1 ** 2 / sample_size_1) + (sigma_2 ** 2 / sample_size_2)\n",
    "            )\n",
    "            print(f\"The z_score is {z_score:.4f}\")\n",
    "\n",
    "            if tail == 'two':\n",
    "                p_value = scipy.stats.norm.sf(abs(z_score)) * 2\n",
    "            elif tail == 'left':\n",
    "                p_value = scipy.stats.norm.cdf(z_score)\n",
    "            elif tail == 'right':\n",
    "                p_value = scipy.stats.norm.sf(z_score)\n",
    "            else:\n",
    "                raise ValueError(\"Invalid tail argument. Use 'two', 'left', or 'right'.\")\n",
    "\n",
    "        # ---- T-test with pooled variance (equal variances)\n",
    "        elif independent and equal_variances:\n",
    "            df = sample_size_1 + sample_size_2 - 2\n",
    "            sp_2 = (\n",
    "                ((s1 ** 2) * (sample_size_1 - 1)) +\n",
    "                ((s2 ** 2) * (sample_size_2 - 1))\n",
    "            ) / df\n",
    "            t_score = (sample_mean_1 - sample_mean_2) / math.sqrt(\n",
    "                sp_2 * ((1 / sample_size_1) + (1 / sample_size_2))\n",
    "            )\n",
    "            print(f\"The t_score is {t_score:.4f}\")\n",
    "\n",
    "            if tail == 'two':\n",
    "                p_value = scipy.stats.t.sf(abs(t_score), df) * 2\n",
    "            elif tail == 'left':\n",
    "                p_value = scipy.stats.t.cdf(t_score, df)\n",
    "            elif tail == 'right':\n",
    "                p_value = scipy.stats.t.sf(t_score, df)\n",
    "            else:\n",
    "                raise ValueError(\"Invalid tail argument. Use 'two', 'left', or 'right'.\")\n",
    "\n",
    "        # ---- Welch’s T-test (unequal variances, independent samples)\n",
    "        elif independent and not equal_variances:\n",
    "            numerator = (s1 ** 2 / sample_size_1) + (s2 ** 2 / sample_size_2)\n",
    "            denominator = ((s1 ** 2 / sample_size_1) ** 2) / (sample_size_1 - 1) + \\\n",
    "                          ((s2 ** 2 / sample_size_2) ** 2) / (sample_size_2 - 1)\n",
    "            df = numerator ** 2 / denominator\n",
    "\n",
    "            t_score = (sample_mean_1 - sample_mean_2) / math.sqrt(numerator)\n",
    "            print(f\"Welch's df: {df:.2f}\")\n",
    "            print(f\"The t_score is {t_score:.4f}\")\n",
    "\n",
    "            if tail == 'two-tailed':\n",
    "                p_value = scipy.stats.t.sf(abs(t_score), df) * 2\n",
    "            elif tail == 'left-tailed':\n",
    "                p_value = scipy.stats.t.cdf(t_score, df)\n",
    "            elif tail == 'right-tailed':\n",
    "                p_value = scipy.stats.t.sf(t_score, df)\n",
    "            else:\n",
    "                raise ValueError(\"Invalid tail argument. Use 'two-tailed', 'left-tailed', or 'right-tailed'.\")\n",
    "\n",
    "        # ---- Paired T-test\n",
    "        elif not independent and test_type == 'mean':\n",
    "            df = sample_size_1 - 1\n",
    "            t_stat = sample_mean_1 / (s1 / math.sqrt(sample_size_1))\n",
    "            print(f'The t_statistic (paired test) is {t_stat:.4f}')\n",
    "\n",
    "            if tail == 'two-tailed':\n",
    "                p_value = 2 * (1 - scipy.stats.t.cdf(abs(t_stat), df))\n",
    "            elif tail == 'right-tailed':\n",
    "                p_value = 1 - scipy.stats.t.cdf(t_stat, df)\n",
    "            elif tail == 'left-tailed':\n",
    "                p_value = scipy.stats.t.cdf(t_stat, df)\n",
    "            else:\n",
    "                raise ValueError(\"Invalid tail argument. Use 'two-tailed', 'left-tailed', or 'right-tailed'.\")\n",
    "\n",
    "    # -----------------------------\n",
    "    # Case 2: Hypothesis Test for Standard Deviations (F-test)\n",
    "    # -----------------------------\n",
    "    elif test_type == 'standard_deviation':\n",
    "        dof_num = sample_size_1 - 1\n",
    "        dof_den = sample_size_2 - 1\n",
    "        f_stat = (s1 ** 2) / (s2 ** 2)\n",
    "        print(f\"The f_statistic is {f_stat:.4f}\")\n",
    "\n",
    "        if tail == 'right':\n",
    "            p_value = 1 - scipy.stats.f.cdf(f_stat, dof_num, dof_den)\n",
    "        elif tail == 'left':\n",
    "            p_value = scipy.stats.f.cdf(f_stat, dof_num, dof_den)\n",
    "        elif tail == 'two-tailed':\n",
    "            if f_stat > 1:\n",
    "                p_value = 2 * (1 - scipy.stats.f.cdf(f_stat, dof_num, dof_den))\n",
    "            else:\n",
    "                p_value = 2 * scipy.stats.f.cdf(f_stat, dof_num, dof_den)\n",
    "        else:\n",
    "            raise ValueError(\"Invalid tail argument. Use 'two-tailed', 'left', or 'right'.\")\n",
    "\n",
    "    else:\n",
    "        raise ValueError(\"Invalid test_type. Choose 'mean' or 'standard_deviation'.\")\n",
    "\n",
    "    # -----------------------------\n",
    "    # Hypothesis Test Conclusion\n",
    "    # -----------------------------\n",
    "    if p_value < significance:\n",
    "        print(\"✅ Reject the Null Hypothesis\")\n",
    "    else:\n",
    "        print(\"❌ Failed to reject the Null Hypothesis\")\n",
    "\n",
    "    return round(p_value, 5), round(significance, 2)"
   ]
  },
  {
   "cell_type": "code",
   "execution_count": 388,
   "id": "1cc56ecd-8342-4e01-8586-342d69d0e916",
   "metadata": {},
   "outputs": [],
   "source": [
    "#two_sample_hypothesis_testing(sample_1,sample_2,alpha = 0.05,independent=False,tail = 'right')"
   ]
  },
  {
   "cell_type": "code",
   "execution_count": 390,
   "id": "9ae12d23-070c-44e9-bb73-364ecf3e8ac6",
   "metadata": {},
   "outputs": [],
   "source": [
    "mean_diff = 4.5\n",
    "s1 = 6.845\n",
    "n1 = 8"
   ]
  },
  {
   "cell_type": "code",
   "execution_count": 392,
   "id": "f8c26c65-17eb-4d47-b106-2c896a5ab7b4",
   "metadata": {},
   "outputs": [],
   "source": [
    "sample_1 = [mean_diff,n1,0,s1]"
   ]
  },
  {
   "cell_type": "code",
   "execution_count": 394,
   "id": "385fbe63-f4b1-491e-bef4-1c75f55ed001",
   "metadata": {},
   "outputs": [],
   "source": [
    "#two_sample_hypothesis_testing(sample_1,sample_2,alpha = 0.05,independent=False,tail = 'left')"
   ]
  },
  {
   "cell_type": "code",
   "execution_count": 396,
   "id": "e1210d36-81b4-4cd0-b6a8-6c47b1119854",
   "metadata": {},
   "outputs": [],
   "source": [
    "#two_sample_hypothesis_testing(sample_1,sample_2,alpha = 0.05,tail = 'right',test_type = 'standard_deviation')"
   ]
  },
  {
   "cell_type": "code",
   "execution_count": 398,
   "id": "7d9631d0-9bb0-4843-9e82-97f242c83fc3",
   "metadata": {},
   "outputs": [],
   "source": [
    "#two_sample_hypothesis_testing(sample_1,sample_2,alpha = 0.02,tail = 'left',test_type = 'standard_deviation')"
   ]
  },
  {
   "cell_type": "code",
   "execution_count": 400,
   "id": "6158bb2b-d65d-4a09-b565-b14d5c99f595",
   "metadata": {},
   "outputs": [
    {
     "name": "stdout",
     "output_type": "stream",
     "text": [
      "The t_statistic (paired test) is 1.8594\n",
      "✅ Reject the Null Hypothesis\n"
     ]
    },
    {
     "data": {
      "text/plain": [
       "(0.05265, 0.95)"
      ]
     },
     "execution_count": 400,
     "metadata": {},
     "output_type": "execute_result"
    }
   ],
   "source": [
    "two_sample_hypothesis_testing(sample_1,sample_2,alpha = 0.05,tail = 'right-tailed',test_type = 'mean',independent = False)"
   ]
  },
  {
   "cell_type": "code",
   "execution_count": null,
   "id": "2c4c6f68-f3ad-4c7a-93d5-03109ac6896d",
   "metadata": {},
   "outputs": [],
   "source": []
  }
 ],
 "metadata": {
  "kernelspec": {
   "display_name": "Python [conda env:base] *",
   "language": "python",
   "name": "conda-base-py"
  },
  "language_info": {
   "codemirror_mode": {
    "name": "ipython",
    "version": 3
   },
   "file_extension": ".py",
   "mimetype": "text/x-python",
   "name": "python",
   "nbconvert_exporter": "python",
   "pygments_lexer": "ipython3",
   "version": "3.12.4"
  }
 },
 "nbformat": 4,
 "nbformat_minor": 5
}
