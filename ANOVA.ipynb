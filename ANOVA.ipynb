{
 "cells": [
  {
   "cell_type": "code",
   "execution_count": 187,
   "id": "5340e6cc-6654-4a34-b36a-7e7f1cea051a",
   "metadata": {},
   "outputs": [],
   "source": [
    "import pandas as pd\n",
    "import numpy as np\n",
    "from scipy import stats"
   ]
  },
  {
   "cell_type": "code",
   "execution_count": 189,
   "id": "20239c06-1e71-4f71-b926-5ea4aca39774",
   "metadata": {},
   "outputs": [],
   "source": [
    "# -----------------------------\n",
    "# Sample data from different groups\n",
    "# -----------------------------\n",
    "sample_1 = [67, 78, 73, 71]\n",
    "sample_2 = [75, 74, 79, 83]\n",
    "sample_3 = [76, 84, 80, 78]"
   ]
  },
  {
   "cell_type": "code",
   "execution_count": 197,
   "id": "a995edef-31b1-4ee5-b84a-9e4257b285ac",
   "metadata": {},
   "outputs": [],
   "source": [
    "# Store all samples in a list\n",
    "samples = []\n",
    "samples.append(sample_1)\n",
    "samples.append(sample_2)\n",
    "samples.append(sample_3)"
   ]
  },
  {
   "cell_type": "code",
   "execution_count": 199,
   "id": "3249a81a-43a8-4a64-87ce-a48b8b7d5c43",
   "metadata": {},
   "outputs": [],
   "source": [
    "# -----------------------------\n",
    "# One-Way ANOVA Function\n",
    "# -----------------------------\n",
    "def one_way_anova(*groups, alpha=0.05):\n",
    "    \"\"\"\n",
    "    Performs one-way ANOVA test on the input groups.\n",
    "    \n",
    "    Parameters:\n",
    "        *groups: Variable number of group samples (lists of numeric data).\n",
    "        alpha (float): Significance level for hypothesis testing.\n",
    "    \n",
    "    Returns:\n",
    "        tuple: Rounded F-statistic and p-value.\n",
    "    \"\"\"\n",
    "    f_stat, p_val = stats.f_oneway(*groups)\n",
    "\n",
    "    # Output results\n",
    "    print(f\"F-statistic: {f_stat:.4f}\")\n",
    "    print(f\"P-value: {p_val:.4f}\")\n",
    "\n",
    "    # Hypothesis test conclusion\n",
    "    if p_val < alpha:\n",
    "        print(\"Reject H₀: At least one group mean is different.\")\n",
    "    else:\n",
    "        print(\"Fail to reject H₀: No evidence of a difference.\")\n",
    "\n",
    "    return round(f_stat, 3), round(p_val, 3)"
   ]
  },
  {
   "cell_type": "code",
   "execution_count": 201,
   "id": "5dcfb06e-195f-4b6a-a935-f48a274fa63d",
   "metadata": {},
   "outputs": [
    {
     "name": "stdout",
     "output_type": "stream",
     "text": [
      "F-statistic: 3.4697\n",
      "P-value: 0.0764\n",
      "Fail to reject H₀: No evidence of a difference.\n"
     ]
    },
    {
     "data": {
      "text/plain": [
       "(3.47, 0.076)"
      ]
     },
     "execution_count": 201,
     "metadata": {},
     "output_type": "execute_result"
    }
   ],
   "source": [
    "# -----------------------------\n",
    "# Perform the ANOVA test\n",
    "# -----------------------------\n",
    "one_way_anova(*samples)"
   ]
  },
  {
   "cell_type": "code",
   "execution_count": null,
   "id": "f192e2f1-2365-4449-a539-692bd39d903d",
   "metadata": {},
   "outputs": [],
   "source": []
  }
 ],
 "metadata": {
  "kernelspec": {
   "display_name": "Python [conda env:base] *",
   "language": "python",
   "name": "conda-base-py"
  },
  "language_info": {
   "codemirror_mode": {
    "name": "ipython",
    "version": 3
   },
   "file_extension": ".py",
   "mimetype": "text/x-python",
   "name": "python",
   "nbconvert_exporter": "python",
   "pygments_lexer": "ipython3",
   "version": "3.12.4"
  }
 },
 "nbformat": 4,
 "nbformat_minor": 5
}
