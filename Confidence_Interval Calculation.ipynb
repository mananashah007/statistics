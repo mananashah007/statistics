{
 "cells": [
  {
   "cell_type": "code",
   "execution_count": 2,
   "id": "f36b3fa1-9a3b-48e6-a8bd-8b831383511b",
   "metadata": {},
   "outputs": [],
   "source": [
    "#Importing essential libraries\n",
    "import pandas as pd\n",
    "import numpy as np\n",
    "import math\n",
    "from scipy.stats import t\n",
    "import scipy.stats"
   ]
  },
  {
   "cell_type": "code",
   "execution_count": 16,
   "id": "86acb916-ac67-4bd4-9e1c-775f2b9113e5",
   "metadata": {},
   "outputs": [],
   "source": [
    "#Define the variables for population\n",
    "#specify 0 in pop_std_deviation if its not given\n",
    "pop_mean, pop_std_deviation, n = 19.5,0,10"
   ]
  },
  {
   "cell_type": "code",
   "execution_count": 18,
   "id": "0448b1dc-badf-4c77-a4ac-f6645cea8340",
   "metadata": {},
   "outputs": [],
   "source": [
    "#Define the variables for sample\n",
    "sample_mean, sample_std_dev = 29.2,14.543"
   ]
  },
  {
   "cell_type": "code",
   "execution_count": 40,
   "id": "88bb4af5-0823-4df6-a5f8-ac2607c09a43",
   "metadata": {},
   "outputs": [],
   "source": [
    "#specify the signficance level\n",
    "alpha = 0.1"
   ]
  },
  {
   "cell_type": "code",
   "execution_count": 22,
   "id": "b55ad269-a8ae-4799-9df2-bd19a8449d46",
   "metadata": {},
   "outputs": [],
   "source": [
    "#create a list of the variables given\n",
    "population  = [pop_mean,pop_std_deviation,n]\n",
    "sample = [sample_mean, sample_std_dev]"
   ]
  },
  {
   "cell_type": "code",
   "execution_count": 54,
   "id": "4109a4ba-6a11-4d7f-8134-718ca931e942",
   "metadata": {},
   "outputs": [],
   "source": [
    "def calculate_confidence_interval(population, sample, alpha):\n",
    "    \"\"\"\n",
    "    Calculates confidence and prediction intervals based on population/sample data.\n",
    "\n",
    "    Parameters:\n",
    "    - population: tuple -> (population_mean, population_std, sample_size)\n",
    "    - sample: tuple -> (sample_mean, sample_std)\n",
    "    - alpha: float -> significance level (e.g., 0.10 for 90% confidence)\n",
    "\n",
    "    Returns:\n",
    "    - None (prints interval bounds)\n",
    "    \"\"\"\n",
    "\n",
    "    # Unpack population and sample parameters\n",
    "    pop_mean, pop_std, n = population\n",
    "    sample_mean, sample_std = sample\n",
    "    confidence = (1 - alpha) * 100\n",
    "\n",
    "    # Case 1: Population standard deviation is unknown → use t-distribution\n",
    "    if pop_std == 0:\n",
    "        df = n - 1\n",
    "        t_critical = t.ppf(1 - alpha/2, df)  # Two-tailed t-critical value\n",
    "\n",
    "        # Confidence Interval\n",
    "        margin_error_ci = t_critical * (sample_std / math.sqrt(n))\n",
    "        lower_ci = sample_mean - margin_error_ci\n",
    "        upper_ci = sample_mean + margin_error_ci\n",
    "        print(f\"{confidence:.0f}% Confidence Interval: ({lower_ci:.3f}, {upper_ci:.3f})\")\n",
    "\n",
    "        # Prediction Interval\n",
    "        margin_error_pi = t_critical * sample_std * math.sqrt(1 + 1/n)\n",
    "        lower_pi = sample_mean - margin_error_pi\n",
    "        upper_pi = sample_mean + margin_error_pi\n",
    "        print(f\"{confidence:.0f}% Prediction Interval: ({lower_pi:.3f}, {upper_pi:.3f})\")\n",
    "\n",
    "    # Case 2: Population standard deviation is known → use z-distribution\n",
    "    else:\n",
    "        z_critical = norm.ppf(1 - alpha/2)\n",
    "        margin_error = z_critical * (pop_std / math.sqrt(n))\n",
    "        lower_ci = sample_mean - margin_error\n",
    "        upper_ci = sample_mean + margin_error\n",
    "        print(f\"{confidence:.0f}% Confidence Interval (Z): ({lower_ci:.3f}, {upper_ci:.3f})\")"
   ]
  },
  {
   "cell_type": "code",
   "execution_count": 56,
   "id": "6c73dd0e-c88b-4395-8573-f21f8f9ec390",
   "metadata": {},
   "outputs": [
    {
     "name": "stdout",
     "output_type": "stream",
     "text": [
      "90% Confidence Interval: (20.770, 37.630)\n",
      "90% Prediction Interval: (1.240, 57.160)\n"
     ]
    }
   ],
   "source": [
    "calculate_confidence_interval(population,sample,alpha)"
   ]
  },
  {
   "cell_type": "code",
   "execution_count": null,
   "id": "4994b002-ab0b-433f-9a1c-ff0dbc1d75ac",
   "metadata": {},
   "outputs": [],
   "source": []
  }
 ],
 "metadata": {
  "kernelspec": {
   "display_name": "Python [conda env:base] *",
   "language": "python",
   "name": "conda-base-py"
  },
  "language_info": {
   "codemirror_mode": {
    "name": "ipython",
    "version": 3
   },
   "file_extension": ".py",
   "mimetype": "text/x-python",
   "name": "python",
   "nbconvert_exporter": "python",
   "pygments_lexer": "ipython3",
   "version": "3.12.4"
  }
 },
 "nbformat": 4,
 "nbformat_minor": 5
}
